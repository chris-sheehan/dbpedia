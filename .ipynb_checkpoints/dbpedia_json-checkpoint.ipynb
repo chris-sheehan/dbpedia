{
 "cells": [
  {
   "cell_type": "code",
   "execution_count": 102,
   "metadata": {
    "collapsed": true
   },
   "outputs": [],
   "source": [
    "from SPARQLWrapper import SPARQLWrapper\n",
    "import requests\n",
    "import json\n",
    "\n",
    "import networkx as nx"
   ]
  },
  {
   "cell_type": "code",
   "execution_count": 22,
   "metadata": {
    "collapsed": true
   },
   "outputs": [],
   "source": [
    "url = \"\"\"www.dbpedia.org/data/Lidar.json?\"\"\"\n",
    "url = \"\"\"http://dbpedia.org/data/Lidar.json\"\"\"\n",
    "# url = \"\"\"http://dbpedia.org/data/Uber_(company).json\"\"\""
   ]
  },
  {
   "cell_type": "code",
   "execution_count": 1,
   "metadata": {
    "collapsed": true
   },
   "outputs": [],
   "source": [
    "PREFICES = \"\"\"\n",
    "    PREFIX owl: <http://www.w3.org/2002/07/owl#>\n",
    "    PREFIX xsd: <http://www.w3.org/2001/XMLSchema#>\n",
    "    PREFIX rdfs: <http://www.w3.org/2000/01/rdf-schema#>\n",
    "    PREFIX rdf: <http://www.w3.org/1999/02/22-rdf-syntax-ns#>\n",
    "    PREFIX foaf: <http://xmlns.com/foaf/0.1/>\n",
    "    PREFIX dc: <http://purl.org/dc/elements/1.1/>\n",
    "    PREFIX dct: <http://purl.org/dc/terms/>\n",
    "    PREFIX dbc: <http://purl.org/dc/terms/>\n",
    "    PREFIX : <http://dbpedia.org/resource/>\n",
    "    PREFIX dbo: <http://dbpedia.org/ontology/>    \n",
    "    PREFIX dbpedia2: <http://dbpedia.org/property/>\n",
    "    PREFIX dbpedia: <http://dbpedia.org/>\n",
    "    PREFIX skos: <http://www.w3.org/2004/02/skos/core#>\n",
    "\"\"\""
   ]
  },
  {
   "cell_type": "code",
   "execution_count": 121,
   "metadata": {
    "collapsed": true
   },
   "outputs": [],
   "source": [
    "def preprocess_text(term):\n",
    "    # all lower w/ first char upper\n",
    "    term = str(term[0].upper()) + str(term[1:].lower())\n",
    "    # replace spaces with _\n",
    "    term = term.replace(' ', '_')\n",
    "    return term\n",
    "\n",
    "def resource_exists(sparql, resource):\n",
    "    exists_query = \"\"\"DESCRIBE <{resource}>\"\"\"\n",
    "    sparql.setQuery(exists_query.format(resource = resource))\n",
    "    results = sparql.query().convert()\n",
    "    exists = True if results.get('results').get('bindings') else False\n",
    "    return exists\n",
    "\n",
    "def resource_redirect(sparql, resource):\n",
    "    redirect_uri = False\n",
    "    redirect_qry = \"\"\"PREFIX dbo: <http://dbpedia.org/ontology/>   \n",
    "        SELECT ?redirect WHERE {{ \n",
    "        <{resource}> dbo:wikiPageRedirects ?redirect}}\"\"\"\n",
    "    sparql.setQuery(redirect_qry.format(resource = resource))\n",
    "    res = sparql.query().convert()\n",
    "    if res.get('results').get('bindings'):\n",
    "        redirect_uri = res.get('results').get('bindings')[0].get('redirect').get('value')\n",
    "    return redirect_uri\n",
    "\n",
    "def disambiguate_term(sparql, resource):\n",
    "    candidate_uri_subjects = check_for_disambiguations(sparql, resource)\n",
    "    if not candidate_uri_subjects:\n",
    "        return resource\n",
    "    \n",
    "    ####################################\n",
    "    # disambiguate terms via... (hardcoded keywords? \\\n",
    "    # first option? clf? cosine_sim with company description?)\n",
    "    ####################################\n",
    "    best_resource = candidate_uri_subjects[0].get('uri')\n",
    "    return best_resource\n",
    "\n",
    "def check_for_disambiguations(sparql, resource):\n",
    "    candidate_uris = get_candidate_uris(sparql, resource)\n",
    "    candidate_uri_subjects = []\n",
    "    if not candidate_uris:\n",
    "        return []\n",
    "    \n",
    "    for uri in candidate_uris:\n",
    "        candidate_uri_subjects.append(dict(uri = uri, subjects = get_term_subjects(uri)))\n",
    "\n",
    "    return candidate_uri_subjects\n",
    "\n",
    "def get_candidate_uris(sparql, resource):\n",
    "    disambig_query = \"\"\"\n",
    "        PREFIX dbo: <http://dbpedia.org/ontology/>    \n",
    "        SELECT ?disambiguation WHERE \n",
    "        {{ <{resource}> dbo:wikiPageDisambiguates ?disambiguation }}\n",
    "    \"\"\"\n",
    "    sparql.setQuery(disambig_query.format(resource = resource))\n",
    "    results = sparql.query().convert()\n",
    "    candidate_terms = [r.get('disambiguation').get('value') for r in results.get('results').get('bindings')]\n",
    "    return candidate_terms\n",
    "\n",
    "def get_term_subjects(sparql, term_uri):\n",
    "    subject_query = \"\"\"\n",
    "        SELECT ?subject\n",
    "        WHERE {{ <{term_uri}> dct:subject ?subject }}\n",
    "    \"\"\"\n",
    "    sparql.setQuery(subject_query.format(term_uri = term_uri))\n",
    "    results = sparql.query().convert()\n",
    "    \n",
    "    subjects = []\n",
    "    try:\n",
    "        subjects = [r.get('subject').get('value').split(':')[-1].replace('Category:', '').replace('_', ' ') for r in results.get('results').get('bindings')]\n",
    "    except: pass\n",
    "    subjects_string = stringify_alist(subjects)\n",
    "    return subjects_string\n",
    "\n",
    "def stringify_alist(alist, sep = ' '):\n",
    "    return sep.join(alist)\n",
    "\n",
    "def get_subjectsOf(sparql, resource):\n",
    "    qry_subjects_of_resource = \"\"\"PREFIX dct: <http://purl.org/dc/terms/>\n",
    "    SELECT ?subjects WHERE {{\n",
    "    <{uri}> dct:subject ?subjects .\n",
    "    }}\"\"\"\n",
    "\n",
    "    sparql.setQuery(qry_subjects_of_resource.format(uri = resource))\n",
    "    res = sparql.query().convert()\n",
    "\n",
    "    subjects = []\n",
    "    if res.get('results').get('bindings'):\n",
    "        subjects = [rs.get('subjects').get('value') for rs in res.get('results').get('bindings')]\n",
    "\n",
    "    return subjects\n",
    "\n",
    "\n",
    "def get_broaderAndOf(sparql, resource):\n",
    "    qry_broader_and_broader_of = \"\"\"SELECT ?parent_subjects ?child_subjects WHERE {{\n",
    "    <{uri}> skos:broader ?parent_subjects .\n",
    "    ?child_subjects skos:broader <{uri}> .\n",
    "    }}\"\"\"\n",
    "    \n",
    "    child_subjects = []\n",
    "    parent_subjects = []\n",
    "    for r in res.get('results').get('bindings'):\n",
    "        child_subjects.append(r.get('child_subjects').get('value'))\n",
    "        parent_subjects.append(r.get('parent_subjects').get('value'))\n",
    "    return list(set(child_subjects)), list(set(parent_subjects))\n",
    "\n",
    "\n",
    "def label_from_resource(uri):\n",
    "    label = subject.replace(DBPEDIA_RESOURCE_BASE, '').replace('Category:', '').replace('_', ' ')\n",
    "    return label"
   ]
  },
  {
   "cell_type": "code",
   "execution_count": 207,
   "metadata": {
    "collapsed": false
   },
   "outputs": [],
   "source": [
    "term_graph = get_term_graph(term)"
   ]
  },
  {
   "cell_type": "code",
   "execution_count": 209,
   "metadata": {
    "collapsed": false
   },
   "outputs": [
    {
     "ename": "KeyboardInterrupt",
     "evalue": "",
     "output_type": "error",
     "traceback": [
      "\u001b[1;31m---------------------------------------------------------------------------\u001b[0m",
      "\u001b[1;31mKeyboardInterrupt\u001b[0m                         Traceback (most recent call last)",
      "\u001b[1;32m<ipython-input-209-a8f16863fa66>\u001b[0m in \u001b[0;36m<module>\u001b[1;34m()\u001b[0m\n\u001b[1;32m----> 1\u001b[1;33m \u001b[0mnx\u001b[0m\u001b[1;33m.\u001b[0m\u001b[0mdraw\u001b[0m\u001b[1;33m(\u001b[0m\u001b[0mterm_graph\u001b[0m\u001b[1;33m)\u001b[0m\u001b[1;33m\u001b[0m\u001b[0m\n\u001b[0m",
      "\u001b[1;32m/home/chris/anaconda2/lib/python2.7/site-packages/networkx/drawing/nx_pylab.py\u001b[0m in \u001b[0;36mdraw\u001b[1;34m(G, pos, ax, hold, **kwds)\u001b[0m\n\u001b[0;32m    112\u001b[0m \u001b[1;33m\u001b[0m\u001b[0m\n\u001b[0;32m    113\u001b[0m     \u001b[1;32mif\u001b[0m \u001b[0max\u001b[0m \u001b[1;32mis\u001b[0m \u001b[0mNone\u001b[0m\u001b[1;33m:\u001b[0m\u001b[1;33m\u001b[0m\u001b[0m\n\u001b[1;32m--> 114\u001b[1;33m         \u001b[0mcf\u001b[0m \u001b[1;33m=\u001b[0m \u001b[0mplt\u001b[0m\u001b[1;33m.\u001b[0m\u001b[0mgcf\u001b[0m\u001b[1;33m(\u001b[0m\u001b[1;33m)\u001b[0m\u001b[1;33m\u001b[0m\u001b[0m\n\u001b[0m\u001b[0;32m    115\u001b[0m     \u001b[1;32melse\u001b[0m\u001b[1;33m:\u001b[0m\u001b[1;33m\u001b[0m\u001b[0m\n\u001b[0;32m    116\u001b[0m         \u001b[0mcf\u001b[0m \u001b[1;33m=\u001b[0m \u001b[0max\u001b[0m\u001b[1;33m.\u001b[0m\u001b[0mget_figure\u001b[0m\u001b[1;33m(\u001b[0m\u001b[1;33m)\u001b[0m\u001b[1;33m\u001b[0m\u001b[0m\n",
      "\u001b[1;32m/home/chris/anaconda2/lib/python2.7/site-packages/matplotlib/pyplot.pyc\u001b[0m in \u001b[0;36mgcf\u001b[1;34m()\u001b[0m\n\u001b[0;32m    576\u001b[0m         \u001b[1;32mreturn\u001b[0m \u001b[0mfigManager\u001b[0m\u001b[1;33m.\u001b[0m\u001b[0mcanvas\u001b[0m\u001b[1;33m.\u001b[0m\u001b[0mfigure\u001b[0m\u001b[1;33m\u001b[0m\u001b[0m\n\u001b[0;32m    577\u001b[0m     \u001b[1;32melse\u001b[0m\u001b[1;33m:\u001b[0m\u001b[1;33m\u001b[0m\u001b[0m\n\u001b[1;32m--> 578\u001b[1;33m         \u001b[1;32mreturn\u001b[0m \u001b[0mfigure\u001b[0m\u001b[1;33m(\u001b[0m\u001b[1;33m)\u001b[0m\u001b[1;33m\u001b[0m\u001b[0m\n\u001b[0m\u001b[0;32m    579\u001b[0m \u001b[1;33m\u001b[0m\u001b[0m\n\u001b[0;32m    580\u001b[0m \u001b[1;33m\u001b[0m\u001b[0m\n",
      "\u001b[1;32m/home/chris/anaconda2/lib/python2.7/site-packages/matplotlib/pyplot.pyc\u001b[0m in \u001b[0;36mfigure\u001b[1;34m(num, figsize, dpi, facecolor, edgecolor, frameon, FigureClass, **kwargs)\u001b[0m\n\u001b[0;32m    525\u001b[0m                                         \u001b[0mframeon\u001b[0m\u001b[1;33m=\u001b[0m\u001b[0mframeon\u001b[0m\u001b[1;33m,\u001b[0m\u001b[1;33m\u001b[0m\u001b[0m\n\u001b[0;32m    526\u001b[0m                                         \u001b[0mFigureClass\u001b[0m\u001b[1;33m=\u001b[0m\u001b[0mFigureClass\u001b[0m\u001b[1;33m,\u001b[0m\u001b[1;33m\u001b[0m\u001b[0m\n\u001b[1;32m--> 527\u001b[1;33m                                         **kwargs)\n\u001b[0m\u001b[0;32m    528\u001b[0m \u001b[1;33m\u001b[0m\u001b[0m\n\u001b[0;32m    529\u001b[0m         \u001b[1;32mif\u001b[0m \u001b[0mfigLabel\u001b[0m\u001b[1;33m:\u001b[0m\u001b[1;33m\u001b[0m\u001b[0m\n",
      "\u001b[1;32m/home/chris/anaconda2/lib/python2.7/site-packages/matplotlib/backends/backend_qt4agg.pyc\u001b[0m in \u001b[0;36mnew_figure_manager\u001b[1;34m(num, *args, **kwargs)\u001b[0m\n\u001b[0;32m     44\u001b[0m     \u001b[0mFigureClass\u001b[0m \u001b[1;33m=\u001b[0m \u001b[0mkwargs\u001b[0m\u001b[1;33m.\u001b[0m\u001b[0mpop\u001b[0m\u001b[1;33m(\u001b[0m\u001b[1;34m'FigureClass'\u001b[0m\u001b[1;33m,\u001b[0m \u001b[0mFigure\u001b[0m\u001b[1;33m)\u001b[0m\u001b[1;33m\u001b[0m\u001b[0m\n\u001b[0;32m     45\u001b[0m     \u001b[0mthisFig\u001b[0m \u001b[1;33m=\u001b[0m \u001b[0mFigureClass\u001b[0m\u001b[1;33m(\u001b[0m\u001b[1;33m*\u001b[0m\u001b[0margs\u001b[0m\u001b[1;33m,\u001b[0m \u001b[1;33m**\u001b[0m\u001b[0mkwargs\u001b[0m\u001b[1;33m)\u001b[0m\u001b[1;33m\u001b[0m\u001b[0m\n\u001b[1;32m---> 46\u001b[1;33m     \u001b[1;32mreturn\u001b[0m \u001b[0mnew_figure_manager_given_figure\u001b[0m\u001b[1;33m(\u001b[0m\u001b[0mnum\u001b[0m\u001b[1;33m,\u001b[0m \u001b[0mthisFig\u001b[0m\u001b[1;33m)\u001b[0m\u001b[1;33m\u001b[0m\u001b[0m\n\u001b[0m\u001b[0;32m     47\u001b[0m \u001b[1;33m\u001b[0m\u001b[0m\n\u001b[0;32m     48\u001b[0m \u001b[1;33m\u001b[0m\u001b[0m\n",
      "\u001b[1;32m/home/chris/anaconda2/lib/python2.7/site-packages/matplotlib/backends/backend_qt4agg.pyc\u001b[0m in \u001b[0;36mnew_figure_manager_given_figure\u001b[1;34m(num, figure)\u001b[0m\n\u001b[0;32m     51\u001b[0m     \u001b[0mCreate\u001b[0m \u001b[0ma\u001b[0m \u001b[0mnew\u001b[0m \u001b[0mfigure\u001b[0m \u001b[0mmanager\u001b[0m \u001b[0minstance\u001b[0m \u001b[1;32mfor\u001b[0m \u001b[0mthe\u001b[0m \u001b[0mgiven\u001b[0m \u001b[0mfigure\u001b[0m\u001b[1;33m.\u001b[0m\u001b[1;33m\u001b[0m\u001b[0m\n\u001b[0;32m     52\u001b[0m     \"\"\"\n\u001b[1;32m---> 53\u001b[1;33m     \u001b[0mcanvas\u001b[0m \u001b[1;33m=\u001b[0m \u001b[0mFigureCanvasQTAgg\u001b[0m\u001b[1;33m(\u001b[0m\u001b[0mfigure\u001b[0m\u001b[1;33m)\u001b[0m\u001b[1;33m\u001b[0m\u001b[0m\n\u001b[0m\u001b[0;32m     54\u001b[0m     \u001b[1;32mreturn\u001b[0m \u001b[0mFigureManagerQT\u001b[0m\u001b[1;33m(\u001b[0m\u001b[0mcanvas\u001b[0m\u001b[1;33m,\u001b[0m \u001b[0mnum\u001b[0m\u001b[1;33m)\u001b[0m\u001b[1;33m\u001b[0m\u001b[0m\n\u001b[0;32m     55\u001b[0m \u001b[1;33m\u001b[0m\u001b[0m\n",
      "\u001b[1;32m/home/chris/anaconda2/lib/python2.7/site-packages/matplotlib/backends/backend_qt4agg.pyc\u001b[0m in \u001b[0;36m__init__\u001b[1;34m(self, figure)\u001b[0m\n\u001b[0;32m     74\u001b[0m         \u001b[1;32mif\u001b[0m \u001b[0mDEBUG\u001b[0m\u001b[1;33m:\u001b[0m\u001b[1;33m\u001b[0m\u001b[0m\n\u001b[0;32m     75\u001b[0m             \u001b[1;32mprint\u001b[0m\u001b[1;33m(\u001b[0m\u001b[1;34m'FigureCanvasQtAgg: '\u001b[0m\u001b[1;33m,\u001b[0m \u001b[0mfigure\u001b[0m\u001b[1;33m)\u001b[0m\u001b[1;33m\u001b[0m\u001b[0m\n\u001b[1;32m---> 76\u001b[1;33m         \u001b[0mFigureCanvasQT\u001b[0m\u001b[1;33m.\u001b[0m\u001b[0m__init__\u001b[0m\u001b[1;33m(\u001b[0m\u001b[0mself\u001b[0m\u001b[1;33m,\u001b[0m \u001b[0mfigure\u001b[0m\u001b[1;33m)\u001b[0m\u001b[1;33m\u001b[0m\u001b[0m\n\u001b[0m\u001b[0;32m     77\u001b[0m         \u001b[0mFigureCanvasQTAggBase\u001b[0m\u001b[1;33m.\u001b[0m\u001b[0m__init__\u001b[0m\u001b[1;33m(\u001b[0m\u001b[0mself\u001b[0m\u001b[1;33m,\u001b[0m \u001b[0mfigure\u001b[0m\u001b[1;33m)\u001b[0m\u001b[1;33m\u001b[0m\u001b[0m\n\u001b[0;32m     78\u001b[0m         \u001b[0mFigureCanvasAgg\u001b[0m\u001b[1;33m.\u001b[0m\u001b[0m__init__\u001b[0m\u001b[1;33m(\u001b[0m\u001b[0mself\u001b[0m\u001b[1;33m,\u001b[0m \u001b[0mfigure\u001b[0m\u001b[1;33m)\u001b[0m\u001b[1;33m\u001b[0m\u001b[0m\n",
      "\u001b[1;32m/home/chris/anaconda2/lib/python2.7/site-packages/matplotlib/backends/backend_qt4.pyc\u001b[0m in \u001b[0;36m__init__\u001b[1;34m(self, figure)\u001b[0m\n\u001b[0;32m     66\u001b[0m         \u001b[1;32mif\u001b[0m \u001b[0mDEBUG\u001b[0m\u001b[1;33m:\u001b[0m\u001b[1;33m\u001b[0m\u001b[0m\n\u001b[0;32m     67\u001b[0m             \u001b[1;32mprint\u001b[0m\u001b[1;33m(\u001b[0m\u001b[1;34m'FigureCanvasQt qt4: '\u001b[0m\u001b[1;33m,\u001b[0m \u001b[0mfigure\u001b[0m\u001b[1;33m)\u001b[0m\u001b[1;33m\u001b[0m\u001b[0m\n\u001b[1;32m---> 68\u001b[1;33m         \u001b[0m_create_qApp\u001b[0m\u001b[1;33m(\u001b[0m\u001b[1;33m)\u001b[0m\u001b[1;33m\u001b[0m\u001b[0m\n\u001b[0m\u001b[0;32m     69\u001b[0m \u001b[1;33m\u001b[0m\u001b[0m\n\u001b[0;32m     70\u001b[0m         \u001b[1;31m# Note different super-calling style to backend_qt5\u001b[0m\u001b[1;33m\u001b[0m\u001b[1;33m\u001b[0m\u001b[0m\n",
      "\u001b[1;32m/home/chris/anaconda2/lib/python2.7/site-packages/matplotlib/backends/backend_qt5.pyc\u001b[0m in \u001b[0;36m_create_qApp\u001b[1;34m()\u001b[0m\n\u001b[0;32m    138\u001b[0m                     \u001b[1;32mraise\u001b[0m \u001b[0mRuntimeError\u001b[0m\u001b[1;33m(\u001b[0m\u001b[1;34m'Invalid DISPLAY variable'\u001b[0m\u001b[1;33m)\u001b[0m\u001b[1;33m\u001b[0m\u001b[0m\n\u001b[0;32m    139\u001b[0m \u001b[1;33m\u001b[0m\u001b[0m\n\u001b[1;32m--> 140\u001b[1;33m             \u001b[0mqApp\u001b[0m \u001b[1;33m=\u001b[0m \u001b[0mQtWidgets\u001b[0m\u001b[1;33m.\u001b[0m\u001b[0mQApplication\u001b[0m\u001b[1;33m(\u001b[0m\u001b[1;33m[\u001b[0m\u001b[0mstr\u001b[0m\u001b[1;33m(\u001b[0m\u001b[1;34m\" \"\u001b[0m\u001b[1;33m)\u001b[0m\u001b[1;33m]\u001b[0m\u001b[1;33m)\u001b[0m\u001b[1;33m\u001b[0m\u001b[0m\n\u001b[0m\u001b[0;32m    141\u001b[0m             \u001b[0mqApp\u001b[0m\u001b[1;33m.\u001b[0m\u001b[0mlastWindowClosed\u001b[0m\u001b[1;33m.\u001b[0m\u001b[0mconnect\u001b[0m\u001b[1;33m(\u001b[0m\u001b[0mqApp\u001b[0m\u001b[1;33m.\u001b[0m\u001b[0mquit\u001b[0m\u001b[1;33m)\u001b[0m\u001b[1;33m\u001b[0m\u001b[0m\n\u001b[0;32m    142\u001b[0m         \u001b[1;32melse\u001b[0m\u001b[1;33m:\u001b[0m\u001b[1;33m\u001b[0m\u001b[0m\n",
      "\u001b[1;31mKeyboardInterrupt\u001b[0m: "
     ]
    }
   ],
   "source": [
    "nx.draw(term_graph)"
   ]
  },
  {
   "cell_type": "code",
   "execution_count": 206,
   "metadata": {
    "collapsed": true
   },
   "outputs": [],
   "source": [
    "def get_term_graph(term):\n",
    "    # init graph\n",
    "    g = nx.Graph()\n",
    "    \n",
    "    cleaned_term = preprocess_text(term)\n",
    "    resource = \"\"\"{resource_base}{term}\"\"\".format(term = cleaned_term, resource_base = DBPEDIA_RESOURCE_BASE)\n",
    "    exists = term_exists(sparql, resource)\n",
    "    if not exists:\n",
    "        print 'Term resource not found.'\n",
    "        return g # return empty graph\n",
    "    \n",
    "    resource = term_redirect(sparql, resource)\n",
    "    resource = disambiguate_term(sparql, resource)\n",
    "    \n",
    "    subjects = get_subjectsOf(sparql, resource)\n",
    "    graph = build_graph(g, subjects)\n",
    "    return graph\n",
    "\n",
    "def term_exists(sparql, resource):\n",
    "    exists = resource_exists(sparql, resource)\n",
    "    return exists\n",
    "    \n",
    "def term_redirect(sparql, resource):\n",
    "    redirect = resource_redirect(sparql, resource)\n",
    "    if redirect:\n",
    "        resource = redirect\n",
    "    return resource\n",
    "\n",
    "def build_graph(g, subjects):\n",
    "    for subject in subjects:\n",
    "        child_subjects, parent_subjects = get_broaderAndOf(sparql, subject)\n",
    "        # build and add layers to graph\n",
    "        new_nodes, new_edges = build_layer_of_subjects(subject, child_subjects, parent_subjects)\n",
    "        g = add_layer_of_subjects(g, new_nodes, new_edges)\n",
    "\n",
    "        for child in child_subjects:\n",
    "            child_child_subjects, child_parent_subjects = get_broaderAndOf(sparql, child)\n",
    "            # build and add layers to graph\n",
    "            new_nodes, new_edges = build_layer_of_subjects(child, child_child_subjects, child_parent_subjects)\n",
    "            g = add_layer_of_subjects(g, new_nodes, new_edges)\n",
    "\n",
    "        for parent in parent_subjects:\n",
    "            parent_child_subjects, parent_parent_subjects = get_broaderAndOf(sparql, parent)\n",
    "            # build and add layers to graph\n",
    "            new_nodes, new_edges = build_layer_of_subjects(parent, parent_child_subjects, parent_parent_subjects)\n",
    "            g = add_layer_of_subjects(g, new_nodes, new_edges)\n",
    "    return g\n",
    "\n",
    "def build_layer_of_subjects(subject, child_subjects, parent_subjects):\n",
    "    new_nodes = []\n",
    "    new_nodes.append(subject)\n",
    "\n",
    "    new_edges = []\n",
    "    for child in child_subjects:\n",
    "        new_nodes.append(child)\n",
    "        new_edges.append((subject, child))\n",
    "\n",
    "    for parent in parent_subjects:\n",
    "        new_nodes.append(parent)\n",
    "        new_edges.append((subject, parent))\n",
    "\n",
    "    return new_nodes, new_edges\n",
    "\n",
    "def add_layer_of_subjects(G, new_nodes, new_edges):\n",
    "    G.add_nodes_from(new_nodes)\n",
    "    G.add_edges_from(new_edges)\n",
    "    return G\n"
   ]
  },
  {
   "cell_type": "code",
   "execution_count": null,
   "metadata": {
    "collapsed": true
   },
   "outputs": [],
   "source": [
    "g = nx.Graph()\n",
    "subjects = get_subjectsOf(sparql, resource)\n",
    "for subject in subjects:\n",
    "    child_subjects, parent_subjects = get_broaderAndOf(sparql, subject)\n",
    "    # build and add layers to graph\n",
    "    new_nodes, new_edges = build_layer_of_subjects(subject, child_subjects, parent_subjects)\n",
    "    g = add_layer_of_subjects(g, new_nodes, new_edges)\n",
    "    \n",
    "    for child in child_subjects:\n",
    "        child_child_subjects, child_parent_subjects = get_broaderAndOf(sparql, child)\n",
    "        # build and add layers to graph\n",
    "        new_nodes, new_edges = build_layer_of_subjects(child, child_child_subjects, child_parent_subjects)\n",
    "        g = add_layer_of_subjects(g, new_nodes, new_edges)\n",
    "        \n",
    "    for parent in parent_subjects:\n",
    "        parent_child_subjects, parent_parent_subjects = get_broaderAndOf(sparql, parent)\n",
    "        # build and add layers to graph\n",
    "        new_nodes, new_edges = build_layer_of_subjects(parent, parent_child_subjects, parent_parent_subjects)\n",
    "        g = add_layer_of_subjects(g, new_nodes, new_edges)"
   ]
  },
  {
   "cell_type": "code",
   "execution_count": 197,
   "metadata": {
    "collapsed": false
   },
   "outputs": [
    {
     "name": "stdout",
     "output_type": "stream",
     "text": [
      "http://dbpedia.org/resource/3D_printing\n"
     ]
    }
   ],
   "source": [
    "## main process\n",
    "sparql = SPARQLWrapper(\"http://dbpedia.org/sparql\", returnFormat=\"json\")\n",
    "DBPEDIA_RESOURCE_BASE = \"\"\"http://dbpedia.org/resource/\"\"\"\n",
    "\n",
    "# clean term and define resource\n",
    "term = '3D Printing'\n",
    "cleaned_term = preprocess_text(term)\n",
    "resource = \"\"\"{resource_base}{term}\"\"\".format(term = cleaned_term, resource_base = DBPEDIA_RESOURCE_BASE)\n",
    "\n",
    "# does it exist?\n",
    "exists = resource_exists(sparql, resource)\n",
    "if not exists:\n",
    "    raise\n",
    "    \n",
    "# does it redirect to another resource?\n",
    "redirect = resource_redirect(sparql, resource)\n",
    "if redirect:\n",
    "    resource = redirect\n",
    "\n",
    "# disambiguat term (if necessary)\n",
    "resource = disambiguate_term(sparql, resource)\n",
    "print resource\n",
    "\n",
    "\n",
    "##### Local Graph Construction\n",
    "# identify resource as ?resource\n",
    "# get_subjects_of_resource(?resource)\n",
    "#     for ?s in subject:\n",
    "#         ?deg2 = get_broader_and_broader_of(?s)\n",
    "#         for ?d2 in ?deg2:\n",
    "#            get_broader_and_broader_of(?d2)\n",
    "\n",
    "g = nx.Graph()\n",
    "subjects = get_subjectsOf(sparql, resource)\n",
    "for subject in subjects:\n",
    "    child_subjects, parent_subjects = get_broaderAndOf(sparql, subject)\n",
    "    # build and add layers to graph\n",
    "    new_nodes, new_edges = build_layer_of_subjects(subject, child_subjects, parent_subjects)\n",
    "    g = add_layer_of_subjects(g, new_nodes, new_edges)\n",
    "    \n",
    "    for child in child_subjects:\n",
    "        child_child_subjects, child_parent_subjects = get_broaderAndOf(sparql, child)\n",
    "        # build and add layers to graph\n",
    "        new_nodes, new_edges = build_layer_of_subjects(child, child_child_subjects, child_parent_subjects)\n",
    "        g = add_layer_of_subjects(g, new_nodes, new_edges)\n",
    "        \n",
    "    for parent in parent_subjects:\n",
    "        parent_child_subjects, parent_parent_subjects = get_broaderAndOf(sparql, parent)\n",
    "        # build and add layers to graph\n",
    "        new_nodes, new_edges = build_layer_of_subjects(parent, parent_child_subjects, parent_parent_subjects)\n",
    "        g = add_layer_of_subjects(g, new_nodes, new_edges)"
   ]
  },
  {
   "cell_type": "code",
   "execution_count": 210,
   "metadata": {
    "collapsed": true
   },
   "outputs": [],
   "source": [
    "get_broaderAndOf??"
   ]
  },
  {
   "cell_type": "code",
   "execution_count": 211,
   "metadata": {
    "collapsed": false
   },
   "outputs": [
    {
     "data": {
      "text/plain": [
       "{u'head': {u'link': [], u'vars': [u'parent_subjects', u'child_subjects']},\n",
       " u'results': {u'bindings': [{u'child_subjects': {u'type': u'uri',\n",
       "     u'value': u'http://dbpedia.org/resource/Category:3D_printers'},\n",
       "    u'parent_subjects': {u'type': u'uri',\n",
       "     u'value': u'http://dbpedia.org/resource/Category:Computer_printing'}},\n",
       "   {u'child_subjects': {u'type': u'uri',\n",
       "     u'value': u'http://dbpedia.org/resource/Category:3D_printers'},\n",
       "    u'parent_subjects': {u'type': u'uri',\n",
       "     u'value': u'http://dbpedia.org/resource/Category:DIY_culture'}},\n",
       "   {u'child_subjects': {u'type': u'uri',\n",
       "     u'value': u'http://dbpedia.org/resource/Category:3D_printers'},\n",
       "    u'parent_subjects': {u'type': u'uri',\n",
       "     u'value': u'http://dbpedia.org/resource/Category:Emerging_technologies'}},\n",
       "   {u'child_subjects': {u'type': u'uri',\n",
       "     u'value': u'http://dbpedia.org/resource/Category:3D_printers'},\n",
       "    u'parent_subjects': {u'type': u'uri',\n",
       "     u'value': u'http://dbpedia.org/resource/Category:Industrial_design'}},\n",
       "   {u'child_subjects': {u'type': u'uri',\n",
       "     u'value': u'http://dbpedia.org/resource/Category:3D_printers'},\n",
       "    u'parent_subjects': {u'type': u'uri',\n",
       "     u'value': u'http://dbpedia.org/resource/Category:Manufacturing'}},\n",
       "   {u'child_subjects': {u'type': u'uri',\n",
       "     u'value': u'http://dbpedia.org/resource/Category:3D_printers'},\n",
       "    u'parent_subjects': {u'type': u'uri',\n",
       "     u'value': u'http://dbpedia.org/resource/Category:Printing_processes'}},\n",
       "   {u'child_subjects': {u'type': u'uri',\n",
       "     u'value': u'http://dbpedia.org/resource/Category:3D_printers'},\n",
       "    u'parent_subjects': {u'type': u'uri',\n",
       "     u'value': u'http://dbpedia.org/resource/Category:Industrial_robotics'}},\n",
       "   {u'child_subjects': {u'type': u'uri',\n",
       "     u'value': u'http://dbpedia.org/resource/Category:3D_printed_firearms'},\n",
       "    u'parent_subjects': {u'type': u'uri',\n",
       "     u'value': u'http://dbpedia.org/resource/Category:Computer_printing'}},\n",
       "   {u'child_subjects': {u'type': u'uri',\n",
       "     u'value': u'http://dbpedia.org/resource/Category:3D_printed_firearms'},\n",
       "    u'parent_subjects': {u'type': u'uri',\n",
       "     u'value': u'http://dbpedia.org/resource/Category:DIY_culture'}},\n",
       "   {u'child_subjects': {u'type': u'uri',\n",
       "     u'value': u'http://dbpedia.org/resource/Category:3D_printed_firearms'},\n",
       "    u'parent_subjects': {u'type': u'uri',\n",
       "     u'value': u'http://dbpedia.org/resource/Category:Emerging_technologies'}},\n",
       "   {u'child_subjects': {u'type': u'uri',\n",
       "     u'value': u'http://dbpedia.org/resource/Category:3D_printed_firearms'},\n",
       "    u'parent_subjects': {u'type': u'uri',\n",
       "     u'value': u'http://dbpedia.org/resource/Category:Industrial_design'}},\n",
       "   {u'child_subjects': {u'type': u'uri',\n",
       "     u'value': u'http://dbpedia.org/resource/Category:3D_printed_firearms'},\n",
       "    u'parent_subjects': {u'type': u'uri',\n",
       "     u'value': u'http://dbpedia.org/resource/Category:Manufacturing'}},\n",
       "   {u'child_subjects': {u'type': u'uri',\n",
       "     u'value': u'http://dbpedia.org/resource/Category:3D_printed_firearms'},\n",
       "    u'parent_subjects': {u'type': u'uri',\n",
       "     u'value': u'http://dbpedia.org/resource/Category:Printing_processes'}},\n",
       "   {u'child_subjects': {u'type': u'uri',\n",
       "     u'value': u'http://dbpedia.org/resource/Category:3D_printed_firearms'},\n",
       "    u'parent_subjects': {u'type': u'uri',\n",
       "     u'value': u'http://dbpedia.org/resource/Category:Industrial_robotics'}},\n",
       "   {u'child_subjects': {u'type': u'uri',\n",
       "     u'value': u'http://dbpedia.org/resource/Category:3D_printer_companies'},\n",
       "    u'parent_subjects': {u'type': u'uri',\n",
       "     u'value': u'http://dbpedia.org/resource/Category:Computer_printing'}},\n",
       "   {u'child_subjects': {u'type': u'uri',\n",
       "     u'value': u'http://dbpedia.org/resource/Category:3D_printer_companies'},\n",
       "    u'parent_subjects': {u'type': u'uri',\n",
       "     u'value': u'http://dbpedia.org/resource/Category:DIY_culture'}},\n",
       "   {u'child_subjects': {u'type': u'uri',\n",
       "     u'value': u'http://dbpedia.org/resource/Category:3D_printer_companies'},\n",
       "    u'parent_subjects': {u'type': u'uri',\n",
       "     u'value': u'http://dbpedia.org/resource/Category:Emerging_technologies'}},\n",
       "   {u'child_subjects': {u'type': u'uri',\n",
       "     u'value': u'http://dbpedia.org/resource/Category:3D_printer_companies'},\n",
       "    u'parent_subjects': {u'type': u'uri',\n",
       "     u'value': u'http://dbpedia.org/resource/Category:Industrial_design'}},\n",
       "   {u'child_subjects': {u'type': u'uri',\n",
       "     u'value': u'http://dbpedia.org/resource/Category:3D_printer_companies'},\n",
       "    u'parent_subjects': {u'type': u'uri',\n",
       "     u'value': u'http://dbpedia.org/resource/Category:Manufacturing'}},\n",
       "   {u'child_subjects': {u'type': u'uri',\n",
       "     u'value': u'http://dbpedia.org/resource/Category:3D_printer_companies'},\n",
       "    u'parent_subjects': {u'type': u'uri',\n",
       "     u'value': u'http://dbpedia.org/resource/Category:Printing_processes'}},\n",
       "   {u'child_subjects': {u'type': u'uri',\n",
       "     u'value': u'http://dbpedia.org/resource/Category:3D_printer_companies'},\n",
       "    u'parent_subjects': {u'type': u'uri',\n",
       "     u'value': u'http://dbpedia.org/resource/Category:Industrial_robotics'}}],\n",
       "  u'distinct': False,\n",
       "  u'ordered': True}}"
      ]
     },
     "execution_count": 211,
     "metadata": {},
     "output_type": "execute_result"
    }
   ],
   "source": [
    "res"
   ]
  },
  {
   "cell_type": "code",
   "execution_count": 174,
   "metadata": {
    "collapsed": false
   },
   "outputs": [],
   "source": [
    "def build_layer_of_subjects(subject, child_subjects, parent_subjects):\n",
    "    new_nodes = []\n",
    "    new_nodes.append(subject)\n",
    "\n",
    "    new_edges = []\n",
    "    for child in child_subjects:\n",
    "        new_nodes.append(child)\n",
    "        new_edges.append((subject, child))\n",
    "\n",
    "    for parent in parent_subjects:\n",
    "        new_nodes.append(parent)\n",
    "        new_edges.append((subject, parent))\n",
    "\n",
    "    return new_nodes, new_edges\n",
    "\n",
    "def add_layer_of_subjects(G, new_nodes, new_edges):\n",
    "    G.add_nodes_from(new_nodes)\n",
    "    G.add_edges_from(new_edges)\n",
    "    return G"
   ]
  },
  {
   "cell_type": "code",
   "execution_count": 163,
   "metadata": {
    "collapsed": false
   },
   "outputs": [],
   "source": [
    "G = nx.Graph()\n",
    "# G.add_node(3, dict(resource = resource))\n",
    "G.add_nodes_from([1,2,3,4])\n",
    "G.add_edges_from([(1,2), (1,3), (1,4)])"
   ]
  },
  {
   "cell_type": "code",
   "execution_count": 170,
   "metadata": {
    "collapsed": false
   },
   "outputs": [
    {
     "data": {
      "text/plain": [
       "[1, 2, 3, 4]"
      ]
     },
     "execution_count": 170,
     "metadata": {},
     "output_type": "execute_result"
    }
   ],
   "source": [
    "G.nodes()"
   ]
  },
  {
   "cell_type": "code",
   "execution_count": 99,
   "metadata": {
    "collapsed": false
   },
   "outputs": [
    {
     "name": "stdout",
     "output_type": "stream",
     "text": [
      "http://dbpedia.org/resource/Category:3D_printing\n"
     ]
    }
   ],
   "source": [
    "# subjects = get_subjectsOf(sparql, resource)\n",
    "# subject = subjects[-1]\n",
    "child_subjects, parent_subjects = get_broaderAndOf(sparql, subject)"
   ]
  },
  {
   "cell_type": "code",
   "execution_count": null,
   "metadata": {
    "collapsed": true
   },
   "outputs": [],
   "source": []
  },
  {
   "cell_type": "code",
   "execution_count": null,
   "metadata": {
    "collapsed": true
   },
   "outputs": [],
   "source": []
  },
  {
   "cell_type": "code",
   "execution_count": null,
   "metadata": {
    "collapsed": true
   },
   "outputs": [],
   "source": []
  },
  {
   "cell_type": "code",
   "execution_count": null,
   "metadata": {
    "collapsed": true
   },
   "outputs": [],
   "source": []
  },
  {
   "cell_type": "code",
   "execution_count": null,
   "metadata": {
    "collapsed": true
   },
   "outputs": [],
   "source": []
  },
  {
   "cell_type": "code",
   "execution_count": null,
   "metadata": {
    "collapsed": true
   },
   "outputs": [],
   "source": []
  },
  {
   "cell_type": "code",
   "execution_count": null,
   "metadata": {
    "collapsed": true
   },
   "outputs": [],
   "source": []
  },
  {
   "cell_type": "code",
   "execution_count": null,
   "metadata": {
    "collapsed": true
   },
   "outputs": [],
   "source": []
  },
  {
   "cell_type": "code",
   "execution_count": null,
   "metadata": {
    "collapsed": true
   },
   "outputs": [],
   "source": []
  }
 ],
 "metadata": {
  "kernelspec": {
   "display_name": "Python 2",
   "language": "python",
   "name": "python2"
  },
  "language_info": {
   "codemirror_mode": {
    "name": "ipython",
    "version": 2
   },
   "file_extension": ".py",
   "mimetype": "text/x-python",
   "name": "python",
   "nbconvert_exporter": "python",
   "pygments_lexer": "ipython2",
   "version": "2.7.11"
  }
 },
 "nbformat": 4,
 "nbformat_minor": 0
}
