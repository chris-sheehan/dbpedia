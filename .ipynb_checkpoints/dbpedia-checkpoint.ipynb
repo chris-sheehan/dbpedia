{
 "cells": [
  {
   "cell_type": "code",
   "execution_count": 1,
   "metadata": {
    "collapsed": true
   },
   "outputs": [],
   "source": [
    "import requests\n",
    "import json"
   ]
  },
  {
   "cell_type": "code",
   "execution_count": 50,
   "metadata": {
    "collapsed": true
   },
   "outputs": [],
   "source": [
    "term = 'Uber_(company)'\n",
    "term = 'Lidar'\n",
    "url = \"\"\"http://dbpedia.org/data/{term}.json\"\"\".format(term = term)"
   ]
  },
  {
   "cell_type": "code",
   "execution_count": 48,
   "metadata": {
    "collapsed": false
   },
   "outputs": [],
   "source": [
    "# req = requests.get(url)\n",
    "# con = req.content\n",
    "js = json.loads(requests.get(url).content)"
   ]
  },
  {
   "cell_type": "code",
   "execution_count": 23,
   "metadata": {
    "collapsed": false
   },
   "outputs": [],
   "source": [
    "# f = open('js.txt', 'a')\n",
    "# f.write(str(js))\n",
    "# f.close()"
   ]
  },
  {
   "cell_type": "code",
   "execution_count": 216,
   "metadata": {
    "collapsed": false
   },
   "outputs": [
    {
     "data": {
      "text/plain": [
       "(u'http://dbpedia.org/resource/Doppler',\n",
       " {u'http://dbpedia.org/ontology/wikiPageDisambiguates': [{u'type': u'uri',\n",
       "    u'value': u'http://dbpedia.org/resource/Lidar'}]})"
      ]
     },
     "execution_count": 216,
     "metadata": {},
     "output_type": "execute_result"
    }
   ],
   "source": [
    "js.keys()[0], js[js.keys()[0]]"
   ]
  },
  {
   "cell_type": "code",
   "execution_count": 52,
   "metadata": {
    "collapsed": false
   },
   "outputs": [
    {
     "name": "stdout",
     "output_type": "stream",
     "text": [
      "http://dbpedia.org/resource/Lidar\n",
      "[u'http://www.w3.org/2000/01/rdf-schema#seeAlso', u'http://dbpedia.org/ontology/wikiPageExternalLink', u'http://dbpedia.org/property/reason', u'http://www.w3.org/1999/02/22-rdf-syntax-ns#type', u'http://purl.org/dc/terms/subject', u'http://www.w3.org/2000/01/rdf-schema#comment', u'http://dbpedia.org/ontology/abstract', u'http://xmlns.com/foaf/0.1/depiction', u'http://dbpedia.org/ontology/wikiPageID', u'http://dbpedia.org/property/date', u'http://xmlns.com/foaf/0.1/isPrimaryTopicOf', u'http://www.w3.org/ns/prov#wasDerivedFrom', u'http://dbpedia.org/ontology/wikiPageRevisionID', u'http://www.w3.org/2000/01/rdf-schema#label', u'http://www.w3.org/2002/07/owl#sameAs', u'http://dbpedia.org/ontology/thumbnail']\n"
     ]
    }
   ],
   "source": [
    "for k in js.keys():\n",
    "    if ('dbpedia' in k) & (k.split('/')[-1] == term):\n",
    "        print k\n",
    "        print js[k].keys()"
   ]
  },
  {
   "cell_type": "code",
   "execution_count": 35,
   "metadata": {
    "collapsed": false
   },
   "outputs": [
    {
     "data": {
      "text/plain": [
       "[u'http://dbpedia.org/resource/Garrett_Camp',\n",
       " u'http://dbpedia.org/resource/Uber_(app)',\n",
       " u'http://dbpedia.org/resource/Uber.com',\n",
       " u'http://dbpedia.org/resource/Uber',\n",
       " u'http://dbpedia.org/resource/Uber_taxi',\n",
       " u'http://dbpedia.org/resource/Uber_(company)',\n",
       " u'http://dbpedia.org/resource/Uber_X',\n",
       " u'http://dbpedia.org/resource/Uber_Technologies',\n",
       " u'http://dbpedia.org/resource/Niall_Wass',\n",
       " u'http://dbpedia.org/resource/\\xdcber_(transportation)',\n",
       " u'http://dbpedia.org/resource/Uber_(application)',\n",
       " u'http://dbpedia.org/resource/David_Krane',\n",
       " u'http://dbpedia.org/resource/UberCab',\n",
       " u'http://dbpedia.org/resource/UberX',\n",
       " u'http://dbpedia.org/resource/The_Complete_Guide_to_Everything',\n",
       " u'http://dbpedia.org/resource/Regulatory_opposition_to_Uber',\n",
       " u'http://en.wikipedia.org/wiki/Uber_(company)',\n",
       " u'http://dbpedia.org/resource/Uber_app',\n",
       " u'http://dbpedia.org/resource/Travis_Kalanick']"
      ]
     },
     "execution_count": 35,
     "metadata": {},
     "output_type": "execute_result"
    }
   ],
   "source": [
    "js.keys()"
   ]
  },
  {
   "cell_type": "code",
   "execution_count": null,
   "metadata": {
    "collapsed": true
   },
   "outputs": [],
   "source": []
  },
  {
   "cell_type": "code",
   "execution_count": null,
   "metadata": {
    "collapsed": true
   },
   "outputs": [],
   "source": []
  },
  {
   "cell_type": "code",
   "execution_count": null,
   "metadata": {
    "collapsed": true
   },
   "outputs": [],
   "source": []
  },
  {
   "cell_type": "code",
   "execution_count": null,
   "metadata": {
    "collapsed": true
   },
   "outputs": [],
   "source": []
  },
  {
   "cell_type": "code",
   "execution_count": null,
   "metadata": {
    "collapsed": true
   },
   "outputs": [],
   "source": []
  },
  {
   "cell_type": "code",
   "execution_count": null,
   "metadata": {
    "collapsed": true
   },
   "outputs": [],
   "source": []
  },
  {
   "cell_type": "code",
   "execution_count": null,
   "metadata": {
    "collapsed": true
   },
   "outputs": [],
   "source": []
  },
  {
   "cell_type": "code",
   "execution_count": null,
   "metadata": {
    "collapsed": true
   },
   "outputs": [],
   "source": []
  },
  {
   "cell_type": "code",
   "execution_count": 58,
   "metadata": {
    "collapsed": true
   },
   "outputs": [],
   "source": [
    "from SPARQLWrapper import SPARQLWrapper, RDF, JSON"
   ]
  },
  {
   "cell_type": "code",
   "execution_count": 123,
   "metadata": {
    "collapsed": false
   },
   "outputs": [],
   "source": [
    "# sparql = SPARQLWrapper(endpoint = \" <http://dbpedia.org/resource/>\", returnFormat=\"json\")\n",
    "sparql = SPARQLWrapper(\"http://dbpedia.org/sparql\", returnFormat=\"json\")"
   ]
  },
  {
   "cell_type": "code",
   "execution_count": 217,
   "metadata": {
    "collapsed": true
   },
   "outputs": [],
   "source": [
    "prefices = \"\"\"\n",
    "    PREFIX owl: <http://www.w3.org/2002/07/owl#>\n",
    "    PREFIX xsd: <http://www.w3.org/2001/XMLSchema#>\n",
    "    PREFIX rdfs: <http://www.w3.org/2000/01/rdf-schema#>\n",
    "    PREFIX rdf: <http://www.w3.org/1999/02/22-rdf-syntax-ns#>\n",
    "    PREFIX foaf: <http://xmlns.com/foaf/0.1/>\n",
    "    PREFIX dc: <http://purl.org/dc/elements/1.1/>\n",
    "    PREFIX dct: <http://purl.org/dc/terms/>\n",
    "    PREFIX dbc: <http://purl.org/dc/terms/>\n",
    "    PREFIX : <http://dbpedia.org/resource/>\n",
    "    PREFIX dbo: <http://dbpedia.org/ontology/>    \n",
    "    PREFIX dbpedia2: <http://dbpedia.org/property/>\n",
    "    PREFIX dbpedia: <http://dbpedia.org/>\n",
    "    PREFIX skos: <http://www.w3.org/2004/02/skos/core#>\n",
    "\"\"\""
   ]
  },
  {
   "cell_type": "code",
   "execution_count": null,
   "metadata": {
    "collapsed": true
   },
   "outputs": [],
   "source": []
  },
  {
   "cell_type": "code",
   "execution_count": 530,
   "metadata": {
    "collapsed": false
   },
   "outputs": [
    {
     "name": "stdout",
     "output_type": "stream",
     "text": [
      "True\n"
     ]
    }
   ],
   "source": [
    "# resource_exists(sparql, 'Machine_learning')\n",
    "term = 'Machine_learning'\n",
    "exists_query = \"\"\"DESCRIBE <http://dbpedia.org/resource/{term}>\"\"\"\n",
    "sparql.setQuery(exists_query.format(term = term))\n",
    "results = sparql.query().convert()\n",
    "exists = True if results.get('results').get('bindings') else False\n",
    "print  exists"
   ]
  },
  {
   "cell_type": "code",
   "execution_count": 622,
   "metadata": {
    "collapsed": false
   },
   "outputs": [
    {
     "data": {
      "text/plain": [
       "[u'http://dbpedia.org/resource/Category:Cybernetics',\n",
       " u'http://dbpedia.org/resource/Category:Learning',\n",
       " u'http://dbpedia.org/resource/Category:Machine_learning']"
      ]
     },
     "execution_count": 622,
     "metadata": {},
     "output_type": "execute_result"
    }
   ],
   "source": [
    "# get the subjects of the resource (JSON)\n",
    "get_subjects = \"\"\"PREFIX dbo: <http://dbpedia.org/ontology/>\n",
    "PREFIX dct: <http://purl.org/dc/terms/>\n",
    "PREFIX skos: <http://www.w3.org/2004/02/skos/core#>\n",
    "SELECT ?parent_subjects WHERE { \n",
    "<http://dbpedia.org/resource/Machine_learning> dct:subject ?parent_subjects }\"\"\"\n",
    "\n",
    "sparql.setQuery(get_subjects)\n",
    "res = sparql.query().convert()\n",
    "parent_subjects = [rs.get('parent_subjects').get('value') for rs in res.get('results').get('bindings')]\n",
    "parent_subjects"
   ]
  },
  {
   "cell_type": "code",
   "execution_count": null,
   "metadata": {
    "collapsed": true
   },
   "outputs": [],
   "source": []
  },
  {
   "cell_type": "code",
   "execution_count": 634,
   "metadata": {
    "collapsed": false
   },
   "outputs": [
    {
     "data": {
      "text/plain": [
       "[u'http://dbpedia.org/resource/Category:Cybernetics',\n",
       " u'http://dbpedia.org/resource/Category:Learning',\n",
       " u'http://dbpedia.org/resource/Category:Machine_learning']"
      ]
     },
     "execution_count": 634,
     "metadata": {},
     "output_type": "execute_result"
    }
   ],
   "source": [
    "# get the subjects of the resource (RDF)\n",
    "def get_subjects(sparql, term):\n",
    "    get_subjects = \"\"\"PREFIX dbo: <http://dbpedia.org/ontology/>\n",
    "    PREFIX dct: <http://purl.org/dc/terms/>\n",
    "    PREFIX skos: <http://www.w3.org/2004/02/skos/core#>\n",
    "    SELECT ?parent_subjects WHERE {{\n",
    "    <http://dbpedia.org/resource/{term}> dct:subject ?parent_subjects }}\"\"\"\n",
    "    \n",
    "\n",
    "    sparql.setQuery(get_subjects.format(term = term))\n",
    "    res = sparql.query().convert()\n",
    "\n",
    "    parent_subjects = []\n",
    "    if res.get('results').get('bindings'):\n",
    "        parent_subjects = [rs.get('parent_subjects').get('value') for rs in res.get('results').get('bindings')]\n",
    "\n",
    "    return parent_subjects\n",
    "\n",
    "def get_broader(sparql, term):\n",
    "    get_subjects = \"\"\"PREFIX dbo: <http://dbpedia.org/ontology/>\n",
    "    PREFIX skos: <http://www.w3.org/2004/02/skos/core#>\n",
    "    SELECT ?parent_subjects WHERE {{\n",
    "    <http://dbpedia.org/resource/{term}> skos:broader ?parent_subjects }}\"\"\"\n",
    "    \n",
    "\n",
    "    sparql.setQuery(get_subjects.format(term = term))\n",
    "    res = sparql.query().convert()\n",
    "\n",
    "    parent_subjects = []\n",
    "    if res.get('results').get('bindings'):\n",
    "        parent_subjects = [rs.get('parent_subjects').get('value') for rs in res.get('results').get('bindings')]\n",
    "\n",
    "    return parent_subjects\n",
    "\n",
    "subjects = get_subjects(sparql, 'Machine_learning') + get_broader(sparql, 'Machine_learning')\n",
    "subjects"
   ]
  },
  {
   "cell_type": "markdown",
   "metadata": {},
   "source": [
    "###### Process Term"
   ]
  },
  {
   "cell_type": "code",
   "execution_count": 587,
   "metadata": {
    "collapsed": false
   },
   "outputs": [
    {
     "name": "stdout",
     "output_type": "stream",
     "text": [
      "Machine_learning\n"
     ]
    }
   ],
   "source": [
    "term = 'Machine_Learning'\n",
    "resource_base = \"\"\"http://dbpedia.org/resource/\"\"\"\n",
    "resource = \"\"\"{resource_base}{term}\"\"\".format(term = term, resource_base = resource_base)\n",
    "exists = resource_exists(sparql, term)\n",
    "if not exists:\n",
    "    raise\n",
    "redirect = resource_redirect(sparql, term)\n",
    "\n",
    "if redirect:\n",
    "    term = redirect.replace(resource_base, \"\")\n",
    "\n",
    "term = disambiguate_term(sparql, term)\n",
    "print term\n",
    "    "
   ]
  },
  {
   "cell_type": "markdown",
   "metadata": {},
   "source": [
    "=========================="
   ]
  },
  {
   "cell_type": "code",
   "execution_count": 1,
   "metadata": {
    "collapsed": false
   },
   "outputs": [],
   "source": [
    "def resource_exists(sparql, term):\n",
    "    exists_query = \"\"\"DESCRIBE <http://dbpedia.org/resource/{term}>\"\"\"\n",
    "    sparql.setQuery(exists_query.format(term = term))\n",
    "    results = sparql.query().convert()\n",
    "    exists = True if results.get('results').get('bindings') else False\n",
    "    return exists\n",
    "\n",
    "def resource_redirect(sparql, term):\n",
    "    redirect_uri = False\n",
    "    redirect_qry = \"\"\"PREFIX dbo: <http://dbpedia.org/ontology/>   \n",
    "        SELECT ?redirect WHERE {{ \n",
    "        <http://dbpedia.org/resource/{term}> dbo:wikiPageRedirects ?redirect}}\"\"\"\n",
    "    sparql.setQuery(redirect_qry.format(term = term))\n",
    "    res = sparql.query().convert()\n",
    "    if res.get('results').get('bindings'):\n",
    "        redirect_uri = res.get('results').get('bindings')[0].get('redirect').get('value')\n",
    "    return redirect_uri\n",
    "\n",
    "def disambiguate_term(sparql, term):\n",
    "    candidate_uri_subjects = check_for_disambiguations(sparql, term)\n",
    "    if not candidate_uri_subjects:\n",
    "        return term\n",
    "    \n",
    "    ####################################\n",
    "    # disambiguate terms via... (hardcoded keywords? \\\n",
    "    # first option? clf? cosine_sim with company description?)\n",
    "    ####################################\n",
    "    best_term = candidate_uri_subjects[0].get('uri')\n",
    "    return best_term\n",
    "\n",
    "def check_for_disambiguations(sparql, term):\n",
    "    candidate_uris = get_candidate_uris(sparql, term)\n",
    "    candidate_uri_subjects = []\n",
    "    if not candidate_uris:\n",
    "        return []\n",
    "    \n",
    "    for uri in candidate_uris:\n",
    "        candidate_uri_subjects.append(dict(uri = uri, subjects = get_term_subjects(uri)))\n",
    "\n",
    "    return candidate_uri_subjects\n",
    "\n",
    "def get_candidate_uris(sparql, term):\n",
    "    disambig_query = \"\"\"\n",
    "        PREFIX dbo: <http://dbpedia.org/ontology/>    \n",
    "        SELECT ?disambiguation WHERE \n",
    "        {{ <http://dbpedia.org/resource/{term}> dbo:wikiPageDisambiguates ?disambiguation }}\n",
    "    \"\"\"\n",
    "    sparql.setQuery(disambig_query.format(term = term))\n",
    "    results = sparql.query().convert()\n",
    "    candidate_terms = [r.get('disambiguation').get('value') for r in results.get('results').get('bindings')]\n",
    "    return candidate_terms\n",
    "\n",
    "def get_term_subjects(sparql, term_uri):\n",
    "    subject_query = \"\"\"\n",
    "        SELECT ?subject\n",
    "        WHERE {{ <{term_uri}> dct:subject ?subject }}\n",
    "    \"\"\"\n",
    "    sparql.setQuery(subject_query.format(term_uri = term_uri))\n",
    "    results = sparql.query().convert()\n",
    "    \n",
    "    subjects = []\n",
    "    try:\n",
    "        subjects = [r.get('subject').get('value').split(':')[-1].replace('Category:', '').replace('_', ' ') for r in results.get('results').get('bindings')]\n",
    "    except: pass\n",
    "    subjects_string = stringify_alist(subjects)\n",
    "    return subjects_string\n",
    "\n",
    "def stringify_alist(alist, sep = ' '):\n",
    "    return sep.join(alist)\n",
    "\n",
    "# get the subjects of the resource (RDF)\n",
    "def get_subjects(sparql, term):\n",
    "    get_subjects = \"\"\"PREFIX dbo: <http://dbpedia.org/ontology/>\n",
    "    PREFIX dct: <http://purl.org/dc/terms/>\n",
    "    SELECT ?parent_subjects WHERE {{\n",
    "    <http://dbpedia.org/resource/{term}> dct:subject ?parent_subjects }}\"\"\"\n",
    "\n",
    "    sparql.setQuery(get_subjects)\n",
    "    res = sparql.query().convert()\n",
    "\n",
    "    parent_subjects = []\n",
    "    if res.get('results').get('bindings'):\n",
    "        parent_subjects = [rs.get('parent_subjects').get('value') for rs in res.get('results').get('bindings')]\n",
    "\n",
    "    return parent_subjects\n",
    "\n",
    "# get the subjects of the resource (RDF)\n",
    "def get_subjectsOf(sparql, term):\n",
    "    get_subjects = \"\"\"PREFIX dbo: <http://dbpedia.org/ontology/>\n",
    "    PREFIX dct: <http://purl.org/dc/terms/>\n",
    "    SELECT ?parent_subjects WHERE {{\n",
    "    <http://dbpedia.org/resource/{term}> dct:subject ?parent_subjects }}\"\"\"\n",
    "\n",
    "    sparql.setQuery(get_subjects)\n",
    "    res = sparql.query().convert()\n",
    "\n",
    "    parent_subjects = []\n",
    "    if res.get('results').get('bindings'):\n",
    "        parent_subjects = [rs.get('parent_subjects').get('value') for rs in res.get('results').get('bindings')]\n",
    "\n",
    "    return parent_subjects\n",
    "\n",
    "##### Local Graph Construction\n",
    "# identify resource as ?resource\n",
    "# get_subjects_of_resource(?resource)\n",
    "#     for ?s in subject:\n",
    "#         ?deg2 = get_broader_and_broader_of(?s)\n",
    "#         for ?d2 in ?deg2:\n",
    "#            get_broader_and_broader_of(?d2)\n",
    "\n",
    "\n",
    "## get the subjects of the resource\n",
    "get_subjects_of_resource = \"\"\"PREFIX dct: <http://purl.org/dc/terms/>\n",
    "SELECT ?subjects WHERE {{\n",
    "{uri} dct:subject ?subjects .\n",
    "}}\"\"\"\n",
    "\n",
    "## get the parent and child subjects of a subject\n",
    "get_broader_and_broader_of = \"\"\"SELECT ?parent_subjects ?child_subjects WHERE {{\n",
    "{uri} skos:broader ?parent_subjects .\n",
    "?child_subjects skos:broader {uri} .\n",
    "}}\"\"\""
   ]
  },
  {
   "cell_type": "code",
   "execution_count": 408,
   "metadata": {
    "collapsed": true
   },
   "outputs": [],
   "source": [
    "disambig_query = \"\"\"\n",
    "    PREFIX dbo: <http://dbpedia.org/ontology/>    \n",
    "    SELECT ?disambiguation WHERE \n",
    "    {{ <http://dbpedia.org/resource/{term}> dbo:wikiPageDisambiguates ?disambiguation }}\n",
    "\"\"\"\n",
    "sparql.setQuery(disambig_query.format(term = term))\n",
    "results = sparql.query().convert()\n",
    "candidate_terms = [r.get('disambiguation').get('value') for r in results.get('results').get('bindings')]"
   ]
  },
  {
   "cell_type": "code",
   "execution_count": 426,
   "metadata": {
    "collapsed": false
   },
   "outputs": [],
   "source": [
    "candidate_subjects = check_for_disambiguations(sparql, 'Uber')"
   ]
  },
  {
   "cell_type": "code",
   "execution_count": 452,
   "metadata": {
    "collapsed": false
   },
   "outputs": [
    {
     "data": {
      "text/plain": [
       "u'Cybernetics Learning Machine learning'"
      ]
     },
     "execution_count": 452,
     "metadata": {},
     "output_type": "execute_result"
    }
   ],
   "source": [
    "get_term_subjects(sparql, 'http://dbpedia.org/resource/Machine_learning')"
   ]
  },
  {
   "cell_type": "code",
   "execution_count": 437,
   "metadata": {
    "collapsed": false
   },
   "outputs": [
    {
     "name": "stdout",
     "output_type": "stream",
     "text": [
      "subdict[' http://dbpedia.org/resource/Uber_(company) '] = ' Transport companies established in 2009 Transportation network companies Uber (company) Companies based in San Francisco, California Online companies Privately held companies in the United States Sharing economy 2009 establishments in the United States Freelance marketplace websites '\n",
      "subdict[' http://dbpedia.org/resource/Fur_Fighters '] = ' Acclaim Entertainment games Third-person shooters IPad games 2000 video games Dreamcast games PlayStation 2 games Video games developed in the United Kingdom Video games featuring anthropomorphic characters Windows games '\n",
      "subdict[' http://dbpedia.org/resource/Friedrich_Christian_Hermann_Uber '] = ' German violinists 1781 births 1822 deaths German classical composers German male classical composers German opera composers People from Wrocław '\n",
      "subdict[' http://dbpedia.org/resource/Alexander_Uber '] = ' 1824 deaths 1783 births German composers German male composers People from Wrocław German cellists '\n",
      "subdict[' http://dbpedia.org/resource/Betty_Uber '] = ' Badminton Hall of Fame inductees English female tennis players 1906 births 1983 deaths English female badminton players '\n",
      "subdict[' http://dbpedia.org/resource/Betula_uber '] = ' Betula Smyth County, Virginia Endemic flora of the United States Flora of the Appalachian Mountains Trees of the Southeastern United States Flora of Virginia NatureServe Critically Imperiled species Critically endangered flora of the United States '\n",
      "subdict[' http://dbpedia.org/resource/Christian_Benjamin_Uber '] = ' 1812 deaths 1746 births German composers German jurists German male composers People from Wrocław '\n",
      "subdict[' http://dbpedia.org/resource/Mojang '] = ' Video game companies of Sweden Microsoft acquisitions Mojang Companies established in 2009 Microsoft subsidiaries Video game development companies Video game publishers 2009 establishments in Sweden Companies based in Stockholm '\n",
      "subdict[' http://dbpedia.org/resource/Uber_Cup '] = ' Recurring sporting events established in 1956 Thomas & Uber Cup '\n",
      "subdict[' http://dbpedia.org/resource/Uber_Geek '] = ' 2002 albums Luke Ski albums '\n",
      "subdict[' http://dbpedia.org/resource/Uberfic '] = ' Fan fiction Continuity (fiction) Setting '\n"
     ]
    }
   ],
   "source": [
    "subdict = {}\n",
    "for cs in candidate_subjects:\n",
    "    # print cs.get('uri')\n",
    "    # print cs.get('subjects'), '\\n'\n",
    "    print \"subdict['\",cs.get('uri'),\"'] = '\", cs.get('subjects'),\"'\""
   ]
  },
  {
   "cell_type": "code",
   "execution_count": null,
   "metadata": {
    "collapsed": true
   },
   "outputs": [],
   "source": []
  }
 ],
 "metadata": {
  "kernelspec": {
   "display_name": "Python 2",
   "language": "python",
   "name": "python2"
  },
  "language_info": {
   "codemirror_mode": {
    "name": "ipython",
    "version": 2
   },
   "file_extension": ".py",
   "mimetype": "text/x-python",
   "name": "python",
   "nbconvert_exporter": "python",
   "pygments_lexer": "ipython2",
   "version": "2.7.11"
  }
 },
 "nbformat": 4,
 "nbformat_minor": 0
}
